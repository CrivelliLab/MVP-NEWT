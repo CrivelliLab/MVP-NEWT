{
 "cells": [
  {
   "cell_type": "markdown",
   "metadata": {},
   "source": [
    "# Development Notebook For MIMIC-III -> SQLite backend"
   ]
  },
  {
   "cell_type": "markdown",
   "metadata": {},
   "source": [
    "First, lets connect to SQL-database for MIMIC-III found under `/Project_MVP/_datasets/mimiciii_sqlite`."
   ]
  },
  {
   "cell_type": "code",
   "execution_count": 1,
   "metadata": {},
   "outputs": [],
   "source": [
    "import sqlite3\n",
    "sqlite_file = \"/project/projectdirs/m1532/Projects_MVP/_datasets/mimiciii_sqlite/mimic3.db\""
   ]
  },
  {
   "cell_type": "code",
   "execution_count": 2,
   "metadata": {},
   "outputs": [],
   "source": [
    "conn = sqlite3.connect(sqlite_file)\n",
    "c = conn.cursor()"
   ]
  },
  {
   "cell_type": "markdown",
   "metadata": {},
   "source": [
    "The following cell contains all SQL commands used in this notebook:"
   ]
  },
  {
   "cell_type": "code",
   "execution_count": 9,
   "metadata": {},
   "outputs": [],
   "source": [
    "# SQL COMMANDS\n",
    "get_tables = \"SELECT name FROM sqlite_master WHERE type='table';\"\n",
    "get_noteevents_vars = \"SELECT sql FROM sqlite_master WHERE name='noteevents';\"\n",
    "get_notes_forpatient = \"SELECT hadm_id, chartdate, category, text FROM noteevents WHERE subject_id='{pid}' ORDER BY chartdate DESC;\""
   ]
  },
  {
   "cell_type": "markdown",
   "metadata": {},
   "source": [
    "Lets check the names of tables in the database."
   ]
  },
  {
   "cell_type": "code",
   "execution_count": 4,
   "metadata": {},
   "outputs": [
    {
     "name": "stdout",
     "output_type": "stream",
     "text": [
      "[('admissions',), ('callout',), ('caregivers',), ('chartevents',), ('cptevents',), ('d_cpt',), ('d_icd_diagnoses',), ('d_icd_procedures',), ('d_items',), ('d_labitems',), ('datetimeevents',), ('diagnoses_icd',), ('drgcodes',), ('icustays',), ('inputevents_cv',), ('inputevents_mv',), ('labevents',), ('microbiologyevents',), ('noteevents',), ('outputevents',), ('patients',), ('prescriptions',), ('procedureevents_mv',), ('procedures_icd',), ('services',), ('transfers',), ('admission_suicide',), ('time',), ('new',), ('all2',), ('new_1',), ('new_2',)]\n"
     ]
    }
   ],
   "source": [
    "# Get Table Names\n",
    "c.execute(get_tables)\n",
    "rows = c.fetchall()\n",
    "print(rows)"
   ]
  },
  {
   "cell_type": "code",
   "execution_count": 5,
   "metadata": {},
   "outputs": [],
   "source": [
    "import json\n",
    "\n",
    "# Make JSON From Rows\n",
    "def rows_to_json(rows, c_labels, path):\n",
    "    json_data = {}\n",
    "    for i,r in enumerate(rows):\n",
    "        json_data[i] = {}\n",
    "        for j,c in enumerate(c_labels):\n",
    "            json_data[i][c] = str(r[j])\n",
    "    with open(path, 'w') as f: json.dump(json_data, f)"
   ]
  },
  {
   "cell_type": "markdown",
   "metadata": {},
   "source": [
    "### CASE: Notes APP\n",
    "The notes web app being develop will display all medical notes for a given patient. The final output structure for the data fetched\n",
    "from the database should be a JSON file with the following fields:\n",
    "\n",
    "```\n",
    "PID.json\n",
    "ID: HADM, CHARTDATE, CATEGORY, TEXT\n",
    "# SORTED BY CHARTDAT IN DESCENDING ORDER\n",
    "```\n",
    "\n",
    "Lets check the names of columns in the noteevents table."
   ]
  },
  {
   "cell_type": "code",
   "execution_count": 6,
   "metadata": {},
   "outputs": [
    {
     "name": "stdout",
     "output_type": "stream",
     "text": [
      "[('CREATE TABLE noteevents\\n(\\n    row_id integer NOT NULL,\\n    subject_id integer NOT NULL,\\n    hadm_id integer,\\n    chartdate timestamp(0) ,\\n    charttime timestamp(0) ,\\n    storetime timestamp(0) ,\\n    category varchar(50) ,\\n    description varchar(255) ,\\n    cgid integer,\\n    iserror character(1) ,\\n    text text ,\\n    PRIMARY KEY (row_id)\\n)',)]\n"
     ]
    }
   ],
   "source": [
    "# Get Note-Events Column names\n",
    "c.execute(get_noteevents_vars)\n",
    "rows = c.fetchall()\n",
    "print(rows)"
   ]
  },
  {
   "cell_type": "code",
   "execution_count": 13,
   "metadata": {},
   "outputs": [],
   "source": [
    "# Get Note-Events For All HADMs of a given Patient.\n",
    "c.execute(get_notes_forpatient.format(pid=\"85\"))\n",
    "rows = c.fetchall()\n",
    "#print(rows)"
   ]
  },
  {
   "cell_type": "code",
   "execution_count": 12,
   "metadata": {},
   "outputs": [],
   "source": [
    "# Save Sample Json\n",
    "json_path = \"/global/project/projectdirs/m1532/www/MVP-NEWT/backend/{pid}.json\"\n",
    "rows_to_json(rows, \"hadm_id, chartdate, category, text\".split(', '), json_path.format(pid=\"85\"))"
   ]
  },
  {
   "cell_type": "code",
   "execution_count": 14,
   "metadata": {},
   "outputs": [],
   "source": [
    "c.close()"
   ]
  }
 ],
 "metadata": {
  "kernelspec": {
   "display_name": "Python 3",
   "language": "python",
   "name": "python3"
  },
  "language_info": {
   "codemirror_mode": {
    "name": "ipython",
    "version": 3
   },
   "file_extension": ".py",
   "mimetype": "text/x-python",
   "name": "python",
   "nbconvert_exporter": "python",
   "pygments_lexer": "ipython3",
   "version": "3.6.8"
  }
 },
 "nbformat": 4,
 "nbformat_minor": 2
}
